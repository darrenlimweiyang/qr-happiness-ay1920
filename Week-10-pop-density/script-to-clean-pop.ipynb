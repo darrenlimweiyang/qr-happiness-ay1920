{
 "cells": [
  {
   "cell_type": "code",
   "execution_count": 1,
   "metadata": {},
   "outputs": [],
   "source": [
    "import pandas as pd"
   ]
  },
  {
   "cell_type": "code",
   "execution_count": 2,
   "metadata": {},
   "outputs": [],
   "source": [
    "df = pd.read_csv(\"Cities - Population Density.csv\")"
   ]
  },
  {
   "cell_type": "code",
   "execution_count": 3,
   "metadata": {},
   "outputs": [
    {
     "data": {
      "text/html": [
       "<div>\n",
       "<style scoped>\n",
       "    .dataframe tbody tr th:only-of-type {\n",
       "        vertical-align: middle;\n",
       "    }\n",
       "\n",
       "    .dataframe tbody tr th {\n",
       "        vertical-align: top;\n",
       "    }\n",
       "\n",
       "    .dataframe thead th {\n",
       "        text-align: right;\n",
       "    }\n",
       "</style>\n",
       "<table border=\"1\" class=\"dataframe\">\n",
       "  <thead>\n",
       "    <tr style=\"text-align: right;\">\n",
       "      <th></th>\n",
       "      <th>Country Name</th>\n",
       "      <th>Population</th>\n",
       "      <th>Area: Sqkm</th>\n",
       "      <th>Area: Sqmi</th>\n",
       "      <th>Density: Sqkm</th>\n",
       "      <th>Density: Sqmi</th>\n",
       "      <th>Countries</th>\n",
       "    </tr>\n",
       "  </thead>\n",
       "  <tbody>\n",
       "    <tr>\n",
       "      <th>0</th>\n",
       "      <td>Manila</td>\n",
       "      <td>1,780,148</td>\n",
       "      <td>38.55[2]</td>\n",
       "      <td>14.88</td>\n",
       "      <td>46,178</td>\n",
       "      <td>119,600</td>\n",
       "      <td>Philippines</td>\n",
       "    </tr>\n",
       "    <tr>\n",
       "      <th>1</th>\n",
       "      <td>Pateros</td>\n",
       "      <td>63,840</td>\n",
       "      <td>1.76[3]</td>\n",
       "      <td>0.68</td>\n",
       "      <td>36,447</td>\n",
       "      <td>94,400</td>\n",
       "      <td>Philippines</td>\n",
       "    </tr>\n",
       "    <tr>\n",
       "      <th>2</th>\n",
       "      <td>Mandaluyong</td>\n",
       "      <td>386,276[1]</td>\n",
       "      <td>11.06[3]</td>\n",
       "      <td>4.27</td>\n",
       "      <td>34,925</td>\n",
       "      <td>90,460</td>\n",
       "      <td>Philippines</td>\n",
       "    </tr>\n",
       "    <tr>\n",
       "      <th>3</th>\n",
       "      <td>Baghdad</td>\n",
       "      <td>6,719,500[note 1]</td>\n",
       "      <td>204.4</td>\n",
       "      <td>78.9</td>\n",
       "      <td>32,874</td>\n",
       "      <td>85,140</td>\n",
       "      <td>Iraq</td>\n",
       "    </tr>\n",
       "    <tr>\n",
       "      <th>4</th>\n",
       "      <td>Mumbai</td>\n",
       "      <td>19,478,447[8]</td>\n",
       "      <td>603[9]</td>\n",
       "      <td>233</td>\n",
       "      <td>32,303</td>\n",
       "      <td>83,660</td>\n",
       "      <td>India</td>\n",
       "    </tr>\n",
       "  </tbody>\n",
       "</table>\n",
       "</div>"
      ],
      "text/plain": [
       "  Country Name         Population Area: Sqkm Area: Sqmi Density: Sqkm  \\\n",
       "0       Manila          1,780,148   38.55[2]      14.88        46,178   \n",
       "1      Pateros             63,840    1.76[3]       0.68        36,447   \n",
       "2  Mandaluyong         386,276[1]   11.06[3]       4.27        34,925   \n",
       "3      Baghdad  6,719,500[note 1]      204.4       78.9        32,874   \n",
       "4       Mumbai      19,478,447[8]     603[9]        233        32,303   \n",
       "\n",
       "  Density: Sqmi    Countries  \n",
       "0       119,600  Philippines  \n",
       "1        94,400  Philippines  \n",
       "2        90,460  Philippines  \n",
       "3        85,140         Iraq  \n",
       "4        83,660        India  "
      ]
     },
     "execution_count": 3,
     "metadata": {},
     "output_type": "execute_result"
    }
   ],
   "source": [
    "df.head()"
   ]
  },
  {
   "cell_type": "code",
   "execution_count": 5,
   "metadata": {},
   "outputs": [],
   "source": [
    "df['Population Number'] = df['Population'].apply(lambda x:x.split(\"[\")) "
   ]
  },
  {
   "cell_type": "code",
   "execution_count": 7,
   "metadata": {},
   "outputs": [],
   "source": [
    "df['Population'] = df['Population Number'].apply(lambda x:x[0])"
   ]
  },
  {
   "cell_type": "code",
   "execution_count": 11,
   "metadata": {},
   "outputs": [],
   "source": [
    "df['Population Sqkm'] = df['Area: Sqkm'].apply(lambda x:x.split(\"[\")) \n",
    "df['Area: Sqkm'] = df['Population Sqkm'].apply(lambda x:x[0])"
   ]
  },
  {
   "cell_type": "code",
   "execution_count": 14,
   "metadata": {},
   "outputs": [],
   "source": [
    "df['Pop Density: Sqkm'] = df['Density: Sqkm'].apply(lambda x:x.split(\"[\")) \n",
    "df['Density: Sqkm'] = df['Pop Density: Sqkm'].apply(lambda x:x[0])"
   ]
  },
  {
   "cell_type": "code",
   "execution_count": 15,
   "metadata": {},
   "outputs": [
    {
     "data": {
      "text/html": [
       "<div>\n",
       "<style scoped>\n",
       "    .dataframe tbody tr th:only-of-type {\n",
       "        vertical-align: middle;\n",
       "    }\n",
       "\n",
       "    .dataframe tbody tr th {\n",
       "        vertical-align: top;\n",
       "    }\n",
       "\n",
       "    .dataframe thead th {\n",
       "        text-align: right;\n",
       "    }\n",
       "</style>\n",
       "<table border=\"1\" class=\"dataframe\">\n",
       "  <thead>\n",
       "    <tr style=\"text-align: right;\">\n",
       "      <th></th>\n",
       "      <th>Country Name</th>\n",
       "      <th>Population</th>\n",
       "      <th>Area: Sqkm</th>\n",
       "      <th>Area: Sqmi</th>\n",
       "      <th>Density: Sqkm</th>\n",
       "      <th>Density: Sqmi</th>\n",
       "      <th>Countries</th>\n",
       "      <th>Population Number</th>\n",
       "      <th>Population Sqkm</th>\n",
       "      <th>Pop Density: Sqkm</th>\n",
       "    </tr>\n",
       "  </thead>\n",
       "  <tbody>\n",
       "    <tr>\n",
       "      <th>0</th>\n",
       "      <td>Manila</td>\n",
       "      <td>1,780,148</td>\n",
       "      <td>38.55</td>\n",
       "      <td>14.88</td>\n",
       "      <td>46,178</td>\n",
       "      <td>119,600</td>\n",
       "      <td>Philippines</td>\n",
       "      <td>[1,780,148]</td>\n",
       "      <td>[38.55, 2]]</td>\n",
       "      <td>[46,178]</td>\n",
       "    </tr>\n",
       "    <tr>\n",
       "      <th>1</th>\n",
       "      <td>Pateros</td>\n",
       "      <td>63,840</td>\n",
       "      <td>1.76</td>\n",
       "      <td>0.68</td>\n",
       "      <td>36,447</td>\n",
       "      <td>94,400</td>\n",
       "      <td>Philippines</td>\n",
       "      <td>[63,840]</td>\n",
       "      <td>[1.76, 3]]</td>\n",
       "      <td>[36,447]</td>\n",
       "    </tr>\n",
       "    <tr>\n",
       "      <th>2</th>\n",
       "      <td>Mandaluyong</td>\n",
       "      <td>386,276</td>\n",
       "      <td>11.06</td>\n",
       "      <td>4.27</td>\n",
       "      <td>34,925</td>\n",
       "      <td>90,460</td>\n",
       "      <td>Philippines</td>\n",
       "      <td>[386,276, 1]]</td>\n",
       "      <td>[11.06, 3]]</td>\n",
       "      <td>[34,925]</td>\n",
       "    </tr>\n",
       "    <tr>\n",
       "      <th>3</th>\n",
       "      <td>Baghdad</td>\n",
       "      <td>6,719,500</td>\n",
       "      <td>204.4</td>\n",
       "      <td>78.9</td>\n",
       "      <td>32,874</td>\n",
       "      <td>85,140</td>\n",
       "      <td>Iraq</td>\n",
       "      <td>[6,719,500, note 1]]</td>\n",
       "      <td>[204.4]</td>\n",
       "      <td>[32,874]</td>\n",
       "    </tr>\n",
       "    <tr>\n",
       "      <th>4</th>\n",
       "      <td>Mumbai</td>\n",
       "      <td>19,478,447</td>\n",
       "      <td>603</td>\n",
       "      <td>233</td>\n",
       "      <td>32,303</td>\n",
       "      <td>83,660</td>\n",
       "      <td>India</td>\n",
       "      <td>[19,478,447, 8]]</td>\n",
       "      <td>[603, 9]]</td>\n",
       "      <td>[32,303]</td>\n",
       "    </tr>\n",
       "  </tbody>\n",
       "</table>\n",
       "</div>"
      ],
      "text/plain": [
       "  Country Name  Population Area: Sqkm Area: Sqmi Density: Sqkm Density: Sqmi  \\\n",
       "0       Manila   1,780,148      38.55      14.88        46,178       119,600   \n",
       "1      Pateros      63,840       1.76       0.68        36,447        94,400   \n",
       "2  Mandaluyong     386,276      11.06       4.27        34,925        90,460   \n",
       "3      Baghdad   6,719,500      204.4       78.9        32,874        85,140   \n",
       "4       Mumbai  19,478,447        603        233        32,303        83,660   \n",
       "\n",
       "     Countries     Population Number Population Sqkm Pop Density: Sqkm  \n",
       "0  Philippines           [1,780,148]     [38.55, 2]]          [46,178]  \n",
       "1  Philippines              [63,840]      [1.76, 3]]          [36,447]  \n",
       "2  Philippines         [386,276, 1]]     [11.06, 3]]          [34,925]  \n",
       "3         Iraq  [6,719,500, note 1]]         [204.4]          [32,874]  \n",
       "4        India      [19,478,447, 8]]       [603, 9]]          [32,303]  "
      ]
     },
     "execution_count": 15,
     "metadata": {},
     "output_type": "execute_result"
    }
   ],
   "source": [
    "df.head()"
   ]
  },
  {
   "cell_type": "code",
   "execution_count": 16,
   "metadata": {},
   "outputs": [],
   "source": [
    "df.drop(columns=['Pop Density: Sqkm',\n",
    "                'Population Sqkm',\n",
    "                'Population Number',\n",
    "                'Area: Sqmi',\n",
    "                'Density: Sqmi'],\n",
    "       inplace=True)"
   ]
  },
  {
   "cell_type": "code",
   "execution_count": null,
   "metadata": {},
   "outputs": [],
   "source": []
  },
  {
   "cell_type": "code",
   "execution_count": null,
   "metadata": {},
   "outputs": [],
   "source": []
  },
  {
   "cell_type": "code",
   "execution_count": null,
   "metadata": {},
   "outputs": [],
   "source": []
  },
  {
   "cell_type": "code",
   "execution_count": null,
   "metadata": {},
   "outputs": [],
   "source": []
  },
  {
   "cell_type": "code",
   "execution_count": null,
   "metadata": {},
   "outputs": [],
   "source": []
  },
  {
   "cell_type": "code",
   "execution_count": null,
   "metadata": {},
   "outputs": [],
   "source": []
  }
 ],
 "metadata": {
  "kernelspec": {
   "display_name": "Python 3",
   "language": "python",
   "name": "python3"
  },
  "language_info": {
   "codemirror_mode": {
    "name": "ipython",
    "version": 3
   },
   "file_extension": ".py",
   "mimetype": "text/x-python",
   "name": "python",
   "nbconvert_exporter": "python",
   "pygments_lexer": "ipython3",
   "version": "3.7.5"
  }
 },
 "nbformat": 4,
 "nbformat_minor": 2
}
