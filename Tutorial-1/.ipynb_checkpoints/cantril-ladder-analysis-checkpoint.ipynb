{
 "cells": [
  {
   "cell_type": "markdown",
   "metadata": {},
   "source": [
    "# Experience 1 - World Cantril Ladder Scores\n",
    "---\n",
    "Hi all! Thanks for joining me! Today, I am going to examine this [dataset](https://ourworldindata.org/happiness-and-life-satisfaction)\n",
    "\n",
    "In essence, the cantril ladder refers to a life evaluation question as follows:\n",
    "\n",
    "`\"Please imagine a ladder, with steps numbered from 0 at the bottom to 10 at the top. The top of the ladder represents the best possible life for you and the bottom of the ladder represents the worst possible life for you. On which step of the ladder would you say you personally feel you stand at this time?\"`\n",
    "\n",
    "\n",
    "This was my first time hearing about the question - it piqued my interest as I have never done much research with regards to the concept of 'happiness'\n",
    "\n",
    "---\n",
    "That said, when the data was first introduced in class, I was immediately interested as although the available data analysis tool (in the report) was rather robust, it failed to provide answers to the questions such as \n",
    "\n",
    "- the least happy country of all time\n",
    "- is there any one country that is consistently last\n",
    "- the mean happiness over time\n",
    "\n",
    "As such, I decide to take a look at this data using (jupyter notebook)[https://jupyter.org/]\n",
    "\n",
    "Also, i would like to urge my readers - please feel free to reach out + comment if you have any questions. I understand the code might seem daunting at first - but I assure you it's manageable to get the hang of it after a awhile & I am more than happy to answer any questions you may have! (Assuming it is week 3 - 6 / week 8 - 11) ;-)"
   ]
  },
  {
   "cell_type": "markdown",
   "metadata": {},
   "source": [
    "Here, I import the coding libraries that I will require later for data analysis."
   ]
  },
  {
   "cell_type": "code",
   "execution_count": 1,
   "metadata": {},
   "outputs": [],
   "source": [
    "import pandas as pd\n",
    "import math as math\n",
    "import seaborn as sns\n",
    "import matplotlib as plt"
   ]
  },
  {
   "cell_type": "markdown",
   "metadata": {},
   "source": [
    "# Reading in Data + Basic Exploration\n",
    "\n",
    "Moving on, I first read in the excel file in python. Afterwards, I conducted very basic [exploratory analysis](https://en.wikipedia.org/wiki/Exploratory_data_analysis) to investigate the size, columns and cleanliness of the dataset."
   ]
  },
  {
   "cell_type": "code",
   "execution_count": 2,
   "metadata": {},
   "outputs": [],
   "source": [
    "cantril_ladder = pd.read_csv(\"happiness-cantril-ladder.csv\")"
   ]
  },
  {
   "cell_type": "code",
   "execution_count": 3,
   "metadata": {},
   "outputs": [
    {
     "data": {
      "text/html": [
       "<div>\n",
       "<style scoped>\n",
       "    .dataframe tbody tr th:only-of-type {\n",
       "        vertical-align: middle;\n",
       "    }\n",
       "\n",
       "    .dataframe tbody tr th {\n",
       "        vertical-align: top;\n",
       "    }\n",
       "\n",
       "    .dataframe thead th {\n",
       "        text-align: right;\n",
       "    }\n",
       "</style>\n",
       "<table border=\"1\" class=\"dataframe\">\n",
       "  <thead>\n",
       "    <tr style=\"text-align: right;\">\n",
       "      <th></th>\n",
       "      <th>Entity</th>\n",
       "      <th>Code</th>\n",
       "      <th>Year</th>\n",
       "      <th>World Happiness Report 2016 (Cantril Ladder (0=worst; 10=best))</th>\n",
       "    </tr>\n",
       "  </thead>\n",
       "  <tbody>\n",
       "    <tr>\n",
       "      <th>0</th>\n",
       "      <td>Afghanistan</td>\n",
       "      <td>AFG</td>\n",
       "      <td>2008</td>\n",
       "      <td>3.723590</td>\n",
       "    </tr>\n",
       "    <tr>\n",
       "      <th>1</th>\n",
       "      <td>Afghanistan</td>\n",
       "      <td>AFG</td>\n",
       "      <td>2009</td>\n",
       "      <td>4.401778</td>\n",
       "    </tr>\n",
       "  </tbody>\n",
       "</table>\n",
       "</div>"
      ],
      "text/plain": [
       "        Entity Code  Year  \\\n",
       "0  Afghanistan  AFG  2008   \n",
       "1  Afghanistan  AFG  2009   \n",
       "\n",
       "   World Happiness Report 2016 (Cantril Ladder (0=worst; 10=best))  \n",
       "0                                           3.723590                \n",
       "1                                           4.401778                "
      ]
     },
     "execution_count": 3,
     "metadata": {},
     "output_type": "execute_result"
    }
   ],
   "source": [
    "cantril_ladder.head(2)"
   ]
  },
  {
   "cell_type": "code",
   "execution_count": 4,
   "metadata": {},
   "outputs": [
    {
     "data": {
      "text/plain": [
       "(1704, 4)"
      ]
     },
     "execution_count": 4,
     "metadata": {},
     "output_type": "execute_result"
    }
   ],
   "source": [
    "cantril_ladder.shape"
   ]
  },
  {
   "cell_type": "code",
   "execution_count": 5,
   "metadata": {},
   "outputs": [
    {
     "data": {
      "text/plain": [
       "<bound method DataFrame.info of            Entity Code  Year  \\\n",
       "0     Afghanistan  AFG  2008   \n",
       "1     Afghanistan  AFG  2009   \n",
       "2     Afghanistan  AFG  2010   \n",
       "3     Afghanistan  AFG  2011   \n",
       "4     Afghanistan  AFG  2012   \n",
       "...           ...  ...   ...   \n",
       "1699     Zimbabwe  ZWE  2014   \n",
       "1700     Zimbabwe  ZWE  2015   \n",
       "1701     Zimbabwe  ZWE  2016   \n",
       "1702     Zimbabwe  ZWE  2017   \n",
       "1703     Zimbabwe  ZWE  2018   \n",
       "\n",
       "      World Happiness Report 2016 (Cantril Ladder (0=worst; 10=best))  \n",
       "0                                              3.723590                \n",
       "1                                              4.401778                \n",
       "2                                              4.758381                \n",
       "3                                              3.831719                \n",
       "4                                              3.782938                \n",
       "...                                                 ...                \n",
       "1699                                           4.184451                \n",
       "1700                                           3.703191                \n",
       "1701                                           3.735400                \n",
       "1702                                           3.638300                \n",
       "1703                                           3.616480                \n",
       "\n",
       "[1704 rows x 4 columns]>"
      ]
     },
     "execution_count": 5,
     "metadata": {},
     "output_type": "execute_result"
    }
   ],
   "source": [
    "cantril_ladder.info"
   ]
  },
  {
   "cell_type": "code",
   "execution_count": 6,
   "metadata": {},
   "outputs": [
    {
     "name": "stdout",
     "output_type": "stream",
     "text": [
      "<class 'pandas.core.frame.DataFrame'>\n",
      "RangeIndex: 1704 entries, 0 to 1703\n",
      "Data columns (total 4 columns):\n",
      "Entity                                                             1704 non-null object\n",
      "Code                                                               1704 non-null object\n",
      "Year                                                               1704 non-null int64\n",
      "World Happiness Report 2016 (Cantril Ladder (0=worst; 10=best))    1704 non-null float64\n",
      "dtypes: float64(1), int64(1), object(2)\n",
      "memory usage: 53.4+ KB\n"
     ]
    }
   ],
   "source": [
    "cantril_ladder.info()"
   ]
  },
  {
   "cell_type": "markdown",
   "metadata": {},
   "source": [
    "#### Here, I changed the name of the rightmost column - the older name was too long of a hassle to read"
   ]
  },
  {
   "cell_type": "code",
   "execution_count": 7,
   "metadata": {},
   "outputs": [],
   "source": [
    "cantril_ladder['Cantril_Score'] = cantril_ladder['World Happiness Report 2016 (Cantril Ladder (0=worst; 10=best))']\n",
    "\n"
   ]
  },
  {
   "cell_type": "code",
   "execution_count": 8,
   "metadata": {},
   "outputs": [
    {
     "data": {
      "text/html": [
       "<div>\n",
       "<style scoped>\n",
       "    .dataframe tbody tr th:only-of-type {\n",
       "        vertical-align: middle;\n",
       "    }\n",
       "\n",
       "    .dataframe tbody tr th {\n",
       "        vertical-align: top;\n",
       "    }\n",
       "\n",
       "    .dataframe thead th {\n",
       "        text-align: right;\n",
       "    }\n",
       "</style>\n",
       "<table border=\"1\" class=\"dataframe\">\n",
       "  <thead>\n",
       "    <tr style=\"text-align: right;\">\n",
       "      <th></th>\n",
       "      <th>Entity</th>\n",
       "      <th>Code</th>\n",
       "      <th>Year</th>\n",
       "      <th>World Happiness Report 2016 (Cantril Ladder (0=worst; 10=best))</th>\n",
       "      <th>Cantril_Score</th>\n",
       "    </tr>\n",
       "  </thead>\n",
       "  <tbody>\n",
       "    <tr>\n",
       "      <th>0</th>\n",
       "      <td>Afghanistan</td>\n",
       "      <td>AFG</td>\n",
       "      <td>2008</td>\n",
       "      <td>3.723590</td>\n",
       "      <td>3.723590</td>\n",
       "    </tr>\n",
       "    <tr>\n",
       "      <th>1</th>\n",
       "      <td>Afghanistan</td>\n",
       "      <td>AFG</td>\n",
       "      <td>2009</td>\n",
       "      <td>4.401778</td>\n",
       "      <td>4.401778</td>\n",
       "    </tr>\n",
       "  </tbody>\n",
       "</table>\n",
       "</div>"
      ],
      "text/plain": [
       "        Entity Code  Year  \\\n",
       "0  Afghanistan  AFG  2008   \n",
       "1  Afghanistan  AFG  2009   \n",
       "\n",
       "   World Happiness Report 2016 (Cantril Ladder (0=worst; 10=best))  \\\n",
       "0                                           3.723590                 \n",
       "1                                           4.401778                 \n",
       "\n",
       "   Cantril_Score  \n",
       "0       3.723590  \n",
       "1       4.401778  "
      ]
     },
     "execution_count": 8,
     "metadata": {},
     "output_type": "execute_result"
    }
   ],
   "source": [
    "cantril_ladder.head(2)"
   ]
  },
  {
   "cell_type": "code",
   "execution_count": 9,
   "metadata": {},
   "outputs": [],
   "source": [
    "cantril_ladder.drop('World Happiness Report 2016 (Cantril Ladder (0=worst; 10=best))', \n",
    "                   inplace=True, axis=1)"
   ]
  },
  {
   "cell_type": "code",
   "execution_count": 10,
   "metadata": {},
   "outputs": [
    {
     "data": {
      "text/html": [
       "<div>\n",
       "<style scoped>\n",
       "    .dataframe tbody tr th:only-of-type {\n",
       "        vertical-align: middle;\n",
       "    }\n",
       "\n",
       "    .dataframe tbody tr th {\n",
       "        vertical-align: top;\n",
       "    }\n",
       "\n",
       "    .dataframe thead th {\n",
       "        text-align: right;\n",
       "    }\n",
       "</style>\n",
       "<table border=\"1\" class=\"dataframe\">\n",
       "  <thead>\n",
       "    <tr style=\"text-align: right;\">\n",
       "      <th></th>\n",
       "      <th>Entity</th>\n",
       "      <th>Code</th>\n",
       "      <th>Year</th>\n",
       "      <th>Cantril_Score</th>\n",
       "    </tr>\n",
       "  </thead>\n",
       "  <tbody>\n",
       "    <tr>\n",
       "      <th>0</th>\n",
       "      <td>Afghanistan</td>\n",
       "      <td>AFG</td>\n",
       "      <td>2008</td>\n",
       "      <td>3.723590</td>\n",
       "    </tr>\n",
       "    <tr>\n",
       "      <th>1</th>\n",
       "      <td>Afghanistan</td>\n",
       "      <td>AFG</td>\n",
       "      <td>2009</td>\n",
       "      <td>4.401778</td>\n",
       "    </tr>\n",
       "  </tbody>\n",
       "</table>\n",
       "</div>"
      ],
      "text/plain": [
       "        Entity Code  Year  Cantril_Score\n",
       "0  Afghanistan  AFG  2008       3.723590\n",
       "1  Afghanistan  AFG  2009       4.401778"
      ]
     },
     "execution_count": 10,
     "metadata": {},
     "output_type": "execute_result"
    }
   ],
   "source": [
    "cantril_ladder.head(2)"
   ]
  },
  {
   "cell_type": "markdown",
   "metadata": {},
   "source": [
    "# Question 1: Mean score in 2018 vs 2005\n",
    "\n",
    "Here, I would like to examine how the mean cantril score has changed over time, taking the start and end of the data. \n",
    "\n",
    "I first filtered the data, creating two datasets, one for the year 2018 and the other for 2005. Afterwards, I then find out the mean score for both years. "
   ]
  },
  {
   "cell_type": "code",
   "execution_count": 11,
   "metadata": {},
   "outputs": [],
   "source": [
    "cantril_ladder_2018 = cantril_ladder[cantril_ladder['Year'] == 2018]\n",
    "cantril_ladder_2005 = cantril_ladder[cantril_ladder['Year'] == 2005]\n"
   ]
  },
  {
   "cell_type": "code",
   "execution_count": 12,
   "metadata": {},
   "outputs": [
    {
     "name": "stdout",
     "output_type": "stream",
     "text": [
      "Comparing 2005 and 2018     \n",
      "The mean score in 2018 was 5.5 while the mean score in 2005 was 6.4\n"
     ]
    }
   ],
   "source": [
    "mean_ladder_score_2018 = cantril_ladder_2018['Cantril_Score'].mean()\n",
    "mean_ladder_score_2005 = cantril_ladder_2005['Cantril_Score'].mean()\n",
    "\n",
    "print(\"Comparing 2005 and 2018 \\\n",
    "    \\nThe mean score in 2018 was {} while the mean score in 2005 was {}\".format(round(mean_ladder_score_2018,1), round(mean_ladder_score_2005,1)))"
   ]
  },
  {
   "cell_type": "markdown",
   "metadata": {},
   "source": [
    "#### Checkpoint 1.1\n",
    "---\n",
    "Surprisingly, it seemed like the mean cantril ladder score has falled over the past 13 years, even though there have been significant advances in technology. However, I decided to test the **validity** of my data a little more. \n",
    "\n",
    "Next, I will take a look at the mean score over time.\n"
   ]
  },
  {
   "cell_type": "code",
   "execution_count": 13,
   "metadata": {},
   "outputs": [
    {
     "data": {
      "text/plain": [
       "<matplotlib.axes._subplots.AxesSubplot at 0x1a164fad90>"
      ]
     },
     "execution_count": 13,
     "metadata": {},
     "output_type": "execute_result"
    },
    {
     "data": {
      "image/png": "[encoded data removed]",
      "text/plain": [
       "<Figure size 432x288 with 1 Axes>"
      ]
     },
     "metadata": {
      "needs_background": "light"
     },
     "output_type": "display_data"
    }
   ],
   "source": [
    "sns.lineplot(x='Year',\n",
    "            y='Cantril_Score',\n",
    "            data= cantril_ladder.groupby(['Year']).mean().reset_index()\n",
    "           )"
   ]
  },
  {
   "cell_type": "markdown",
   "metadata": {},
   "source": [
    "#### Checkpoint 1.2\n",
    "\n",
    "Surprisingly, there is a significant drop between 2005 and 2006. Here, I hypothesize that  there might be an issue with the data collection - taking a further look. Here, I examine how many countries are sampled for each year."
   ]
  },
  {
   "cell_type": "code",
   "execution_count": 14,
   "metadata": {},
   "outputs": [
    {
     "data": {
      "text/html": [
       "<div>\n",
       "<style scoped>\n",
       "    .dataframe tbody tr th:only-of-type {\n",
       "        vertical-align: middle;\n",
       "    }\n",
       "\n",
       "    .dataframe tbody tr th {\n",
       "        vertical-align: top;\n",
       "    }\n",
       "\n",
       "    .dataframe thead th {\n",
       "        text-align: right;\n",
       "    }\n",
       "</style>\n",
       "<table border=\"1\" class=\"dataframe\">\n",
       "  <thead>\n",
       "    <tr style=\"text-align: right;\">\n",
       "      <th></th>\n",
       "      <th>Entity</th>\n",
       "      <th>Code</th>\n",
       "      <th>Cantril_Score</th>\n",
       "    </tr>\n",
       "    <tr>\n",
       "      <th>Year</th>\n",
       "      <th></th>\n",
       "      <th></th>\n",
       "      <th></th>\n",
       "    </tr>\n",
       "  </thead>\n",
       "  <tbody>\n",
       "    <tr>\n",
       "      <th>2005</th>\n",
       "      <td>27</td>\n",
       "      <td>27</td>\n",
       "      <td>27</td>\n",
       "    </tr>\n",
       "    <tr>\n",
       "      <th>2006</th>\n",
       "      <td>89</td>\n",
       "      <td>89</td>\n",
       "      <td>89</td>\n",
       "    </tr>\n",
       "    <tr>\n",
       "      <th>2007</th>\n",
       "      <td>102</td>\n",
       "      <td>102</td>\n",
       "      <td>102</td>\n",
       "    </tr>\n",
       "    <tr>\n",
       "      <th>2008</th>\n",
       "      <td>110</td>\n",
       "      <td>110</td>\n",
       "      <td>110</td>\n",
       "    </tr>\n",
       "    <tr>\n",
       "      <th>2009</th>\n",
       "      <td>114</td>\n",
       "      <td>114</td>\n",
       "      <td>114</td>\n",
       "    </tr>\n",
       "    <tr>\n",
       "      <th>2010</th>\n",
       "      <td>124</td>\n",
       "      <td>124</td>\n",
       "      <td>124</td>\n",
       "    </tr>\n",
       "    <tr>\n",
       "      <th>2011</th>\n",
       "      <td>146</td>\n",
       "      <td>146</td>\n",
       "      <td>146</td>\n",
       "    </tr>\n",
       "    <tr>\n",
       "      <th>2012</th>\n",
       "      <td>142</td>\n",
       "      <td>142</td>\n",
       "      <td>142</td>\n",
       "    </tr>\n",
       "    <tr>\n",
       "      <th>2013</th>\n",
       "      <td>137</td>\n",
       "      <td>137</td>\n",
       "      <td>137</td>\n",
       "    </tr>\n",
       "    <tr>\n",
       "      <th>2014</th>\n",
       "      <td>145</td>\n",
       "      <td>145</td>\n",
       "      <td>145</td>\n",
       "    </tr>\n",
       "    <tr>\n",
       "      <th>2015</th>\n",
       "      <td>143</td>\n",
       "      <td>143</td>\n",
       "      <td>143</td>\n",
       "    </tr>\n",
       "    <tr>\n",
       "      <th>2016</th>\n",
       "      <td>142</td>\n",
       "      <td>142</td>\n",
       "      <td>142</td>\n",
       "    </tr>\n",
       "    <tr>\n",
       "      <th>2017</th>\n",
       "      <td>147</td>\n",
       "      <td>147</td>\n",
       "      <td>147</td>\n",
       "    </tr>\n",
       "    <tr>\n",
       "      <th>2018</th>\n",
       "      <td>136</td>\n",
       "      <td>136</td>\n",
       "      <td>136</td>\n",
       "    </tr>\n",
       "  </tbody>\n",
       "</table>\n",
       "</div>"
      ],
      "text/plain": [
       "      Entity  Code  Cantril_Score\n",
       "Year                             \n",
       "2005      27    27             27\n",
       "2006      89    89             89\n",
       "2007     102   102            102\n",
       "2008     110   110            110\n",
       "2009     114   114            114\n",
       "2010     124   124            124\n",
       "2011     146   146            146\n",
       "2012     142   142            142\n",
       "2013     137   137            137\n",
       "2014     145   145            145\n",
       "2015     143   143            143\n",
       "2016     142   142            142\n",
       "2017     147   147            147\n",
       "2018     136   136            136"
      ]
     },
     "execution_count": 14,
     "metadata": {},
     "output_type": "execute_result"
    }
   ],
   "source": [
    "cantril_ladder.groupby('Year').count()"
   ]
  },
  {
   "cell_type": "markdown",
   "metadata": {},
   "source": [
    "#### Checkpoint 1.3 \n",
    "\n",
    "Here, I realise the main issue with the data is a significant increase in the number of countries being samples year-on-year. As such, using the mean score as a comparison will not work, unless I keep n constant, where n refers to the number of countries. "
   ]
  },
  {
   "cell_type": "markdown",
   "metadata": {},
   "source": [
    "#### Checkpoint 1.4\n",
    "\n",
    "Looking at the first 27 countries, comparing them for 2005 and 2018"
   ]
  },
  {
   "cell_type": "code",
   "execution_count": 15,
   "metadata": {},
   "outputs": [],
   "source": [
    "cantril_05_18_merged = cantril_ladder_2005.merge(cantril_ladder_2018, how='left',\n",
    "                         on=['Entity', 'Code'])\n",
    "# joining the two dataframes together, keeping only the first 27 countries. "
   ]
  },
  {
   "cell_type": "code",
   "execution_count": 16,
   "metadata": {},
   "outputs": [
    {
     "name": "stdout",
     "output_type": "stream",
     "text": [
      "Mean Cantril Score in 2005 is 6.446\n"
     ]
    }
   ],
   "source": [
    "cantril_score_05_mean = cantril_05_18_merged['Cantril_Score_x'].mean()\n",
    "\n",
    "print(\"Mean Cantril Score in 2005 is {}\".format(round(cantril_score_05_mean,3)))"
   ]
  },
  {
   "cell_type": "code",
   "execution_count": 17,
   "metadata": {},
   "outputs": [
    {
     "name": "stdout",
     "output_type": "stream",
     "text": [
      "Mean Cantril Score in 2018 is 6.201\n"
     ]
    }
   ],
   "source": [
    "cantril_score_18_mean = cantril_05_18_merged['Cantril_Score_y'].mean()\n",
    "\n",
    "print(\"Mean Cantril Score in 2018 is {}\".format(round(cantril_score_18_mean,3)))"
   ]
  },
  {
   "cell_type": "markdown",
   "metadata": {},
   "source": [
    "#### Checkpoint 1.5 \n",
    "\n",
    "After accounting for only the first 27 countries, there still seems to be a decline in the mean cantrill score, which is surprising to me - I would have felt that in light of technological improvements and efficiency, cantril scores should have increased. especially when the 27 countries are rather developed."
   ]
  },
  {
   "cell_type": "code",
   "execution_count": 18,
   "metadata": {},
   "outputs": [
    {
     "name": "stdout",
     "output_type": "stream",
     "text": [
      "['Australia', 'Belgium', 'Brazil', 'Canada', 'Czech Republic', 'Denmark', 'Egypt', 'France', 'Germany', 'Greece', 'Hungary', 'Iran', 'Italy', 'Japan', 'Jordan', 'Lebanon', 'Mexico', 'Netherlands', 'Pakistan', 'Poland', 'Romania', 'Saudi Arabia', 'Spain', 'Sweden', 'Turkey', 'United Kingdom', 'Venezuela']\n"
     ]
    }
   ],
   "source": [
    "list_of_27_countries = cantril_05_18_merged['Entity'].tolist()\n",
    "print(list_of_27_countries)"
   ]
  },
  {
   "cell_type": "code",
   "execution_count": 19,
   "metadata": {},
   "outputs": [],
   "source": [
    "cantril_05_18_concat = pd.concat([cantril_ladder_2005,\n",
    "                                  cantril_ladder_2018[cantril_ladder_2018['Entity'].isin(list_of_27_countries)]])"
   ]
  },
  {
   "cell_type": "code",
   "execution_count": 20,
   "metadata": {},
   "outputs": [
    {
     "data": {
      "text/plain": [
       "<matplotlib.legend.Legend at 0x1a16250a90>"
      ]
     },
     "execution_count": 20,
     "metadata": {},
     "output_type": "execute_result"
    },
    {
     "data": {
      "image/png": "[encoded data removed]",
      "text/plain": [
       "<Figure size 432x288 with 1 Axes>"
      ]
     },
     "metadata": {
      "needs_background": "light"
     },
     "output_type": "display_data"
    }
   ],
   "source": [
    "g = sns.lineplot(x='Year',\n",
    "            y='Cantril_Score',\n",
    "            data=cantril_05_18_concat,\n",
    "            hue='Entity')\n",
    "\n",
    "box = g.get_position()\n",
    "g.set_position([box.x0, box.y0, box.width * 0.85, box.height]) # resize position\n",
    "\n",
    "# Put a legend to the right side\n",
    "g.legend(loc='center right', bbox_to_anchor=(1.6, 0.5), ncol=1)\n",
    "\n"
   ]
  },
  {
   "cell_type": "markdown",
   "metadata": {},
   "source": [
    "#### Checkpoint 1.6\n",
    "\n",
    "**NOT A GOOD GRAPH**, there are too many entities in play. I decide to forego a lineplot and try getting a distribution of the percentage change in cantril scores."
   ]
  },
  {
   "cell_type": "code",
   "execution_count": 21,
   "metadata": {},
   "outputs": [
    {
     "data": {
      "text/html": [
       "<div>\n",
       "<style scoped>\n",
       "    .dataframe tbody tr th:only-of-type {\n",
       "        vertical-align: middle;\n",
       "    }\n",
       "\n",
       "    .dataframe tbody tr th {\n",
       "        vertical-align: top;\n",
       "    }\n",
       "\n",
       "    .dataframe thead th {\n",
       "        text-align: right;\n",
       "    }\n",
       "</style>\n",
       "<table border=\"1\" class=\"dataframe\">\n",
       "  <thead>\n",
       "    <tr style=\"text-align: right;\">\n",
       "      <th></th>\n",
       "      <th>Entity</th>\n",
       "      <th>Code</th>\n",
       "      <th>Year_x</th>\n",
       "      <th>Cantril_Score_x</th>\n",
       "      <th>Year_y</th>\n",
       "      <th>Cantril_Score_y</th>\n",
       "    </tr>\n",
       "  </thead>\n",
       "  <tbody>\n",
       "    <tr>\n",
       "      <th>0</th>\n",
       "      <td>Australia</td>\n",
       "      <td>AUS</td>\n",
       "      <td>2005</td>\n",
       "      <td>7.340688</td>\n",
       "      <td>2018.0</td>\n",
       "      <td>7.176993</td>\n",
       "    </tr>\n",
       "    <tr>\n",
       "      <th>1</th>\n",
       "      <td>Belgium</td>\n",
       "      <td>BEL</td>\n",
       "      <td>2005</td>\n",
       "      <td>7.262290</td>\n",
       "      <td>2018.0</td>\n",
       "      <td>6.892172</td>\n",
       "    </tr>\n",
       "  </tbody>\n",
       "</table>\n",
       "</div>"
      ],
      "text/plain": [
       "      Entity Code  Year_x  Cantril_Score_x  Year_y  Cantril_Score_y\n",
       "0  Australia  AUS    2005         7.340688  2018.0         7.176993\n",
       "1    Belgium  BEL    2005         7.262290  2018.0         6.892172"
      ]
     },
     "execution_count": 21,
     "metadata": {},
     "output_type": "execute_result"
    }
   ],
   "source": [
    "cantril_05_18_merged.head(2)"
   ]
  },
  {
   "cell_type": "code",
   "execution_count": 22,
   "metadata": {},
   "outputs": [],
   "source": [
    "cantril_05_18_merged.rename(columns={\"Cantril_Score_x\":\"Cantril_Score_2005\",\n",
    "                                    \"Cantril_Score_y\": \"Cantril_Score_2018\"},\n",
    "                           inplace=True)"
   ]
  },
  {
   "cell_type": "code",
   "execution_count": 23,
   "metadata": {},
   "outputs": [],
   "source": [
    "cantril_05_18_merged.drop(cantril_05_18_merged.index[[10,19]],\n",
    "                         inplace=True)"
   ]
  },
  {
   "cell_type": "code",
   "execution_count": 24,
   "metadata": {},
   "outputs": [],
   "source": [
    "cantril_05_18_merged['% Change in Cantril_Score'] = (cantril_05_18_merged['Cantril_Score_2018'] - cantril_05_18_merged['Cantril_Score_2005'])/cantril_05_18_merged['Cantril_Score_2005'] \n",
    "\n"
   ]
  },
  {
   "cell_type": "markdown",
   "metadata": {},
   "source": [
    "#### Checkpoint 1.7\n",
    "\n",
    "Having created a column for % change in cantril score for each country from the original, I then will proceed with a histogram plot."
   ]
  },
  {
   "cell_type": "code",
   "execution_count": 25,
   "metadata": {},
   "outputs": [
    {
     "data": {
      "text/plain": [
       "Text(0.5, 1.0, 'Histogram of % Change in Cantril Ladder Scores')"
      ]
     },
     "execution_count": 25,
     "metadata": {},
     "output_type": "execute_result"
    },
    {
     "data": {
      "image/png": "[encoded data removed]",
      "text/plain": [
       "<Figure size 432x288 with 1 Axes>"
      ]
     },
     "metadata": {
      "needs_background": "light"
     },
     "output_type": "display_data"
    }
   ],
   "source": [
    "sns.distplot(cantril_05_18_merged['% Change in Cantril_Score'],\n",
    "            bins=8,\n",
    "            kde=False).set_title(\"Histogram of % Change in Cantril Ladder Scores\")\n"
   ]
  },
  {
   "cell_type": "markdown",
   "metadata": {},
   "source": [
    "#### Checkpoint 1.8 \n",
    "\n",
    "Interestingly, the distribution of % change follows a normal distribution. A significant number of countries (9) have actually experienced a decline, with the median being at approximately 5% decrease in cantril score."
   ]
  },
  {
   "cell_type": "markdown",
   "metadata": {},
   "source": [
    "#### Checkpoint 1.9\n",
    "\n",
    "Quick check with regards to the median in 2005 vs 2018"
   ]
  },
  {
   "cell_type": "code",
   "execution_count": 26,
   "metadata": {},
   "outputs": [
    {
     "name": "stdout",
     "output_type": "stream",
     "text": [
      "Comparing 2005 and 2018     \n",
      "The median score in 2018 was 5.5 while the median score in 2005 was 6.6\n"
     ]
    }
   ],
   "source": [
    "median_ladder_score_2018 = cantril_ladder_2018['Cantril_Score'].median()\n",
    "median_ladder_score_2005 = cantril_ladder_2005['Cantril_Score'].median()\n",
    "\n",
    "print(\"Comparing 2005 and 2018 \\\n",
    "    \\nThe median score in 2018 was {} while the median score in 2005 was {}\".format(round(median_ladder_score_2018,1), round(median_ladder_score_2005,1)))"
   ]
  },
  {
   "cell_type": "markdown",
   "metadata": {},
   "source": [
    "#### Conclusion 1\n",
    "\n",
    "Based on the data, for the original 27 countries surveyed back in 2005, comparing their scores then to their scores today, there has been a general decline of cantril scores, with a median 5% decline!\n",
    "\n",
    "This is *especially* shocking to me, as I would have expected an increase. A hypothesis would be that this has occurred due to [social media](https://www.fastcompany.com/90415438/yes-social-media-is-making-you-miserable). People are starting to compare themselves more and more, potentially resulting in a decline in cantril ladder scores in said countries."
   ]
  },
  {
   "cell_type": "code",
   "execution_count": 31,
   "metadata": {},
   "outputs": [
    {
     "data": {
      "text/html": [
       "<div>\n",
       "<style scoped>\n",
       "    .dataframe tbody tr th:only-of-type {\n",
       "        vertical-align: middle;\n",
       "    }\n",
       "\n",
       "    .dataframe tbody tr th {\n",
       "        vertical-align: top;\n",
       "    }\n",
       "\n",
       "    .dataframe thead th {\n",
       "        text-align: right;\n",
       "    }\n",
       "</style>\n",
       "<table border=\"1\" class=\"dataframe\">\n",
       "  <thead>\n",
       "    <tr style=\"text-align: right;\">\n",
       "      <th></th>\n",
       "      <th>Entity</th>\n",
       "      <th>Code</th>\n",
       "      <th>Year_x</th>\n",
       "      <th>Cantril_Score_2005</th>\n",
       "      <th>Year_y</th>\n",
       "      <th>Cantril_Score_2018</th>\n",
       "      <th>% Change in Cantril_Score</th>\n",
       "    </tr>\n",
       "  </thead>\n",
       "  <tbody>\n",
       "    <tr>\n",
       "      <th>0</th>\n",
       "      <td>Australia</td>\n",
       "      <td>AUS</td>\n",
       "      <td>2005</td>\n",
       "      <td>7.340688</td>\n",
       "      <td>2018.0</td>\n",
       "      <td>7.176993</td>\n",
       "      <td>-0.022300</td>\n",
       "    </tr>\n",
       "    <tr>\n",
       "      <th>1</th>\n",
       "      <td>Belgium</td>\n",
       "      <td>BEL</td>\n",
       "      <td>2005</td>\n",
       "      <td>7.262290</td>\n",
       "      <td>2018.0</td>\n",
       "      <td>6.892172</td>\n",
       "      <td>-0.050964</td>\n",
       "    </tr>\n",
       "  </tbody>\n",
       "</table>\n",
       "</div>"
      ],
      "text/plain": [
       "      Entity Code  Year_x  Cantril_Score_2005  Year_y  Cantril_Score_2018  \\\n",
       "0  Australia  AUS    2005            7.340688  2018.0            7.176993   \n",
       "1    Belgium  BEL    2005            7.262290  2018.0            6.892172   \n",
       "\n",
       "   % Change in Cantril_Score  \n",
       "0                  -0.022300  \n",
       "1                  -0.050964  "
      ]
     },
     "execution_count": 31,
     "metadata": {},
     "output_type": "execute_result"
    }
   ],
   "source": [
    "cantril_05_18_merged.head((2))"
   ]
  },
  {
   "cell_type": "code",
   "execution_count": 32,
   "metadata": {},
   "outputs": [
    {
     "data": {
      "text/plain": [
       "6.513370991"
      ]
     },
     "execution_count": 32,
     "metadata": {},
     "output_type": "execute_result"
    }
   ],
   "source": [
    "cantril_05_18_merged['Cantril_Score_2018'].median()"
   ]
  },
  {
   "cell_type": "code",
   "execution_count": null,
   "metadata": {},
   "outputs": [],
   "source": []
  }
 ],
 "metadata": {
  "kernelspec": {
   "display_name": "Python 3",
   "language": "python",
   "name": "python3"
  },
  "language_info": {
   "codemirror_mode": {
    "name": "ipython",
    "version": 3
   },
   "file_extension": ".py",
   "mimetype": "text/x-python",
   "name": "python",
   "nbconvert_exporter": "python",
   "pygments_lexer": "ipython3",
   "version": "3.7.5"
  }
 },
 "nbformat": 4,
 "nbformat_minor": 2
}
